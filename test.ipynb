{
 "cells": [
  {
   "cell_type": "code",
   "execution_count": 1,
   "outputs": [],
   "source": [
    "import torch"
   ],
   "metadata": {
    "collapsed": false,
    "pycharm": {
     "name": "#%%\n"
    }
   }
  },
  {
   "cell_type": "code",
   "execution_count": 36,
   "outputs": [
    {
     "data": {
      "text/plain": "tensor([[[0],\n         [0],\n         [0],\n         [0],\n         [0],\n         [0],\n         [0]],\n\n        [[1],\n         [1],\n         [1],\n         [1],\n         [1],\n         [1],\n         [1]],\n\n        [[2],\n         [2],\n         [2],\n         [2],\n         [2],\n         [2],\n         [2]],\n\n        [[3],\n         [3],\n         [3],\n         [3],\n         [3],\n         [3],\n         [3]],\n\n        [[4],\n         [4],\n         [4],\n         [4],\n         [4],\n         [4],\n         [4]]])"
     },
     "execution_count": 36,
     "metadata": {},
     "output_type": "execute_result"
    }
   ],
   "source": [
    "a = torch.tensor([[[i]] * 7 for i in range(5)])\n",
    "a"
   ],
   "metadata": {
    "collapsed": false,
    "pycharm": {
     "name": "#%%\n"
    }
   }
  },
  {
   "cell_type": "code",
   "execution_count": 39,
   "outputs": [],
   "source": [
    "b = [5, 5, 2, 2, 1]"
   ],
   "metadata": {
    "collapsed": false,
    "pycharm": {
     "name": "#%%\n"
    }
   }
  },
  {
   "cell_type": "code",
   "execution_count": 40,
   "outputs": [
    {
     "data": {
      "text/plain": "PackedSequence(data=tensor([[0],\n        [1],\n        [2],\n        [3],\n        [4],\n        [0],\n        [1],\n        [2],\n        [3],\n        [0],\n        [1],\n        [0],\n        [1],\n        [0],\n        [1]]), batch_sizes=tensor([5, 4, 2, 2, 2]), sorted_indices=None, unsorted_indices=None)"
     },
     "execution_count": 40,
     "metadata": {},
     "output_type": "execute_result"
    }
   ],
   "source": [
    "m = torch.nn.utils.rnn.pack_padded_sequence(a, b, batch_first=True)\n",
    "m"
   ],
   "metadata": {
    "collapsed": false,
    "pycharm": {
     "name": "#%%\n"
    }
   }
  },
  {
   "cell_type": "code",
   "execution_count": 17,
   "outputs": [],
   "source": [
    "rnn = torch.nn.GRU(1,1,batch_first=True)"
   ],
   "metadata": {
    "collapsed": false,
    "pycharm": {
     "name": "#%%\n"
    }
   }
  },
  {
   "cell_type": "code",
   "execution_count": 20,
   "outputs": [],
   "source": [
    "_,o1 = rnn(m.float())"
   ],
   "metadata": {
    "collapsed": false,
    "pycharm": {
     "name": "#%%\n"
    }
   }
  },
  {
   "cell_type": "code",
   "execution_count": 22,
   "outputs": [
    {
     "data": {
      "text/plain": "tensor([[-0.2886],\n        [-0.7225],\n        [-0.8947],\n        [-0.9337],\n        [-0.8815]], grad_fn=<SqueezeBackward1>)"
     },
     "execution_count": 22,
     "metadata": {},
     "output_type": "execute_result"
    }
   ],
   "source": [
    "o1.squeeze(0)"
   ],
   "metadata": {
    "collapsed": false,
    "pycharm": {
     "name": "#%%\n"
    }
   }
  },
  {
   "cell_type": "code",
   "execution_count": 24,
   "outputs": [
    {
     "data": {
      "text/plain": "tensor([[[-0.1242],\n         [-0.1974],\n         [-0.2423],\n         [-0.2706],\n         [-0.2886]],\n\n        [[-0.4142],\n         [-0.5892],\n         [-0.6763],\n         [-0.7225],\n         [-0.7478]],\n\n        [[-0.6385],\n         [-0.8237],\n         [-0.8947],\n         [-0.9241],\n         [-0.9367]],\n\n        [[-0.7882],\n         [-0.9337],\n         [-0.9725],\n         [-0.9836],\n         [-0.9868]],\n\n        [[-0.8815],\n         [-0.9779],\n         [-0.9940],\n         [-0.9968],\n         [-0.9973]]], grad_fn=<TransposeBackward1>)"
     },
     "execution_count": 24,
     "metadata": {},
     "output_type": "execute_result"
    }
   ],
   "source": [
    "o2,_ = rnn(a.float())\n",
    "o2"
   ],
   "metadata": {
    "collapsed": false,
    "pycharm": {
     "name": "#%%\n"
    }
   }
  },
  {
   "cell_type": "code",
   "execution_count": 35,
   "outputs": [
    {
     "data": {
      "text/plain": "tensor([[[-0.2886],\n         [-0.2706],\n         [-0.2423],\n         [-0.1974],\n         [-0.1242]],\n\n        [[-0.7478],\n         [-0.7225],\n         [-0.6763],\n         [-0.5892],\n         [-0.4142]],\n\n        [[-0.9367],\n         [-0.9241],\n         [-0.8947],\n         [-0.8237],\n         [-0.6385]],\n\n        [[-0.9868],\n         [-0.9836],\n         [-0.9725],\n         [-0.9337],\n         [-0.7882]],\n\n        [[-0.9973],\n         [-0.9968],\n         [-0.9940],\n         [-0.9779],\n         [-0.8815]]], grad_fn=<IndexBackward>)"
     },
     "execution_count": 35,
     "metadata": {},
     "output_type": "execute_result"
    }
   ],
   "source": [
    "b_ = torch.tensor([i-1 for i in b])\n",
    "o3 = o2[:,b_,:]\n",
    "o3"
   ],
   "metadata": {
    "collapsed": false,
    "pycharm": {
     "name": "#%%\n"
    }
   }
  },
  {
   "cell_type": "code",
   "execution_count": null,
   "outputs": [],
   "source": [],
   "metadata": {
    "collapsed": false,
    "pycharm": {
     "name": "#%%\n"
    }
   }
  }
 ],
 "metadata": {
  "kernelspec": {
   "name": "pycharm-a7c6c75c",
   "language": "python",
   "display_name": "PyCharm (PathAttention)"
  },
  "language_info": {
   "codemirror_mode": {
    "name": "ipython",
    "version": 2
   },
   "file_extension": ".py",
   "mimetype": "text/x-python",
   "name": "python",
   "nbconvert_exporter": "python",
   "pygments_lexer": "ipython2",
   "version": "2.7.6"
  }
 },
 "nbformat": 4,
 "nbformat_minor": 0
}